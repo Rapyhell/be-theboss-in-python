{
 "cells": [
  {
   "cell_type": "markdown",
   "id": "5a643e97-4939-4cac-863b-2251a0728174",
   "metadata": {},
   "source": [
    "## How to Reduce Noise using Python"
   ]
  },
  {
   "cell_type": "code",
   "execution_count": null,
   "id": "5b21074d-56e4-480b-9791-fa8d5d73cb66",
   "metadata": {},
   "outputs": [],
   "source": [
    "!pip install noisereduce -q"
   ]
  },
  {
   "cell_type": "code",
   "execution_count": null,
   "id": "9a855254-2d02-4d3d-b7a7-73c529271271",
   "metadata": {},
   "outputs": [],
   "source": [
    "from scipy.io import wavfile\n",
    "import noisereduce as nr\n",
    "# load data\n",
    "rate, data = wavfile.read(\"mywav.wav\")\n",
    "# perform noise reduction\n",
    "reduced_noise = nr.reduce_noise(y=data, sr=rate)\n",
    "wavfile.write(\"mywav_reduced_noise.wav\", rate, reduced_noise)"
   ]
  },
  {
   "cell_type": "markdown",
   "id": "c0ffd147-8e76-4d08-9065-ee55c3c6d719",
   "metadata": {},
   "source": [
    "For More advanced options: \n",
    "https://github.com/timsainb/noisereduce"
   ]
  },
  {
   "cell_type": "markdown",
   "id": "3c9949d7-43c9-4e42-8fa7-f41d6873dc9c",
   "metadata": {},
   "source": [
    "Follow me for more Python and ML content!"
   ]
  },
  {
   "cell_type": "code",
   "execution_count": null,
   "id": "e27897de-a45e-4c9f-9f59-3249b38baaf6",
   "metadata": {},
   "outputs": [],
   "source": []
  }
 ],
 "metadata": {
  "kernelspec": {
   "display_name": "default:Python",
   "language": "python",
   "name": "conda-env-default-py"
  },
  "language_info": {
   "codemirror_mode": {
    "name": "ipython",
    "version": 3
   },
   "file_extension": ".py",
   "mimetype": "text/x-python",
   "name": "python",
   "nbconvert_exporter": "python",
   "pygments_lexer": "ipython3",
   "version": "3.9.12"
  },
  "widgets": {
   "application/vnd.jupyter.widget-state+json": {
    "state": {},
    "version_major": 2,
    "version_minor": 0
   }
  }
 },
 "nbformat": 4,
 "nbformat_minor": 5
}
